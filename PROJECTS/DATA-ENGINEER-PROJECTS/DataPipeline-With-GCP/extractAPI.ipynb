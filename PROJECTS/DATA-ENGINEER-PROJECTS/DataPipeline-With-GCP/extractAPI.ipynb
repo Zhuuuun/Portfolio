{
 "cells": [
  {
   "cell_type": "code",
   "execution_count": 4,
   "id": "8fee6355",
   "metadata": {},
   "outputs": [],
   "source": [
    "import requests\n",
    "url = \"https://r2de2-workshop-vmftiryt6q-ts.a.run.app/usd_thb_conversion_rate\"\n",
    "result_conversion_rate = requests.get(url).json()"
   ]
  },
  {
   "cell_type": "code",
   "execution_count": null,
   "id": "97aa3134",
   "metadata": {},
   "outputs": [],
   "source": [
    "import pandas as pd\n",
    "conversion_rate = pd.DataFrame(result_conversion_rate)\n",
    "conversion_rate = conversion_rate.reset_index().rename(columns={\"index\": \"date\"})\n",
    "conversion_rate"
   ]
  },
  {
   "cell_type": "code",
   "execution_count": 10,
   "id": "8a2329e3",
   "metadata": {},
   "outputs": [],
   "source": [
    "# save to csv\n",
    "conversion_rate.to_csv('gs://process-data-bucket/output/conversion_rate_data.csv',index=False)"
   ]
  }
 ],
 "metadata": {
  "kernelspec": {
   "display_name": "Python 3",
   "language": "python",
   "name": "python3"
  },
  "language_info": {
   "codemirror_mode": {
    "name": "ipython",
    "version": 3
   },
   "file_extension": ".py",
   "mimetype": "text/x-python",
   "name": "python",
   "nbconvert_exporter": "python",
   "pygments_lexer": "ipython3",
   "version": "3.8.15"
  }
 },
 "nbformat": 4,
 "nbformat_minor": 5
}
