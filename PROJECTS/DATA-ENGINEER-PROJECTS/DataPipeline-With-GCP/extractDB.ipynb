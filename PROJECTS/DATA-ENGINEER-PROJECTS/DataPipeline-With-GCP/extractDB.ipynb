{
 "cells": [
  {
   "cell_type": "code",
   "execution_count": null,
   "id": "b0721fc1",
   "metadata": {},
   "outputs": [],
   "source": [
    "!pip install pymysql"
   ]
  },
  {
   "cell_type": "code",
   "execution_count": 13,
   "id": "f2e90b6f",
   "metadata": {},
   "outputs": [],
   "source": [
    "import os\n",
    "\n",
    "class Config:\n",
    " MYSQL_HOST = os.getenv(\"MYSQL_HOST\")\n",
    "  MYSQL_PORT = int(os.getenv(\"MYSQL_PORT\"))\n",
    "  MYSQL_USER = os.getenv(\"MYSQL_USER\")\n",
    "  MYSQL_PASSWORD = os.getenv(\"MYSQL_PASSWORD\")\n",
    "  MYSQL_DB = os.getenv(\"MYSQL_DB\")\n",
    "  MYSQL_CHARSET = os.getenv(\"MYSQL_CHARSET\")"
   ]
  },
  {
   "cell_type": "code",
   "execution_count": 14,
   "id": "deb85ec4",
   "metadata": {},
   "outputs": [],
   "source": [
    "import pymysql\n",
    "\n",
    "# Connect to the database\n",
    "connection = pymysql.connect(host=Config.MYSQL_HOST,\n",
    "                             port=Config.MYSQL_PORT,\n",
    "                             user=Config.MYSQL_USER,\n",
    "                             password=Config.MYSQL_PASSWORD,\n",
    "                             db=Config.MYSQL_DB,\n",
    "                             charset=Config.MYSQL_CHARSET,\n",
    "                             cursorclass=pymysql.cursors.DictCursor)"
   ]
  },
  {
   "cell_type": "code",
   "execution_count": null,
   "id": "19fecab5",
   "metadata": {},
   "outputs": [],
   "source": [
    "with connection.cursor() as cursor:\n",
    "  cursor.execute(\"SELECT * FROM audible_data;\")\n",
    "  result = cursor.fetchall()\n",
    "    \n",
    "print(\"number of rows: \", len(result))"
   ]
  },
  {
   "cell_type": "code",
   "execution_count": null,
   "id": "4f834758",
   "metadata": {},
   "outputs": [],
   "source": [
    "import pandas as pd\n",
    "\n",
    "book_data = pd.DataFrame(result)\n",
    "book_data.set_index(\"Book_ID\",inplace = True)\n",
    "book_data"
   ]
  },
  {
   "cell_type": "code",
   "execution_count": null,
   "id": "a64b0786",
   "metadata": {},
   "outputs": [],
   "source": [
    "with connection.cursor() as cursor:\n",
    "  cursor.execute(\"SELECT * FROM audible_transaction;\")\n",
    "  result = cursor.fetchall()\n",
    "    \n",
    "print(\"number of rows: \", len(result))"
   ]
  },
  {
   "cell_type": "code",
   "execution_count": null,
   "id": "10058597",
   "metadata": {},
   "outputs": [],
   "source": [
    "transaction_data = pd.DataFrame(result)\n",
    "transaction_data"
   ]
  },
  {
   "cell_type": "code",
   "execution_count": 11,
   "id": "330a0498",
   "metadata": {},
   "outputs": [],
   "source": [
    "# save to csv \n",
    "book_data.to_csv('gs://process-data-bucket/output/book_data.csv' ,index=True)\n",
    "transaction_data.to_csv('gs://process-data-bucket/output/transaction_data.csv' ,index=False)"
   ]
  }
 ],
 "metadata": {
  "kernelspec": {
   "display_name": "Python 3",
   "language": "python",
   "name": "python3"
  },
  "language_info": {
   "codemirror_mode": {
    "name": "ipython",
    "version": 3
   },
   "file_extension": ".py",
   "mimetype": "text/x-python",
   "name": "python",
   "nbconvert_exporter": "python",
   "pygments_lexer": "ipython3",
   "version": "3.8.15"
  }
 },
 "nbformat": 4,
 "nbformat_minor": 5
}
