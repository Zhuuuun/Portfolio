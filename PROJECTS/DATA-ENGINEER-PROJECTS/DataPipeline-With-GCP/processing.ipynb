{
 "cells": [
  {
   "cell_type": "code",
   "execution_count": null,
   "id": "e657d6e8",
   "metadata": {},
   "outputs": [],
   "source": [
    "from pyspark.sql import SparkSession\n",
    "from pyspark.sql.functions import *\n",
    "spark = SparkSession.builder.master(\"local[*]\").getOrCreate()"
   ]
  },
  {
   "cell_type": "code",
   "execution_count": null,
   "id": "289195d6",
   "metadata": {},
   "outputs": [],
   "source": [
    "book_df = spark.read.csv('gs://process-data-bucket/output/book_data.csv',header=True,inferSchema=True)\n",
    "transaction_df = spark.read.csv('gs://process-data-bucket/output/transaction_data.csv',header=True,inferSchema=True)\n",
    "conversion_df = spark.read.csv('gs://process-data-bucket/output/conversion_rate_data.csv',header=True,inferSchema=True)"
   ]
  },
  {
   "cell_type": "code",
   "execution_count": null,
   "id": "94a595b9",
   "metadata": {},
   "outputs": [],
   "source": [
    "#change col name to remove after join\n",
    "book_df = book_df.withColumnRenamed('Book_ID','join_temp')\n",
    "\n",
    "df = transaction_df.join(book_df,transaction_df.book_id==book_df.join_temp,\"left\")\n",
    "df = df.drop('join_temp')\n",
    "df = df.withColumn('date',to_date('timestamp'))\n",
    "df.show()"
   ]
  },
  {
   "cell_type": "code",
   "execution_count": null,
   "id": "901735b5",
   "metadata": {},
   "outputs": [],
   "source": [
    "temp = conversion_df\n",
    "temp = temp.withColumn('date',to_date('date'))\n",
    "temp = temp.withColumnRenamed('date','join_temp')\n",
    "temp.show()"
   ]
  },
  {
   "cell_type": "code",
   "execution_count": null,
   "id": "27282d9c",
   "metadata": {},
   "outputs": [],
   "source": [
    "df = df.join(temp,df.date==temp.join_temp,\"left\")\n",
    "df = df.drop('join_temp')\n",
    "df.show()"
   ]
  },
  {
   "cell_type": "code",
   "execution_count": null,
   "id": "4c41aeaf",
   "metadata": {},
   "outputs": [],
   "source": [
    "# remove $ and change data type to float\n",
    "df = df.withColumn('Price', regexp_replace('Price', '^\\W{1}', ''))\n",
    "df = df.withColumn('Price',df.Price.cast('float'))\n",
    "df.show()"
   ]
  },
  {
   "cell_type": "code",
   "execution_count": 13,
   "id": "630dc374",
   "metadata": {},
   "outputs": [],
   "source": [
    "# Create THB column\n",
    "df.withColumn('THBPrice',df.Price*df.conversion_rate).show()\n",
    "# drop date column\n",
    "df = df.drop('date')"
   ]
  },
  {
   "cell_type": "code",
   "execution_count": null,
   "id": "e431ff40",
   "metadata": {},
   "outputs": [],
   "source": [
    "df.write.csv('gs://process-data-bucket/output/audible_data.csv', header = True)"
   ]
  },
  {
   "cell_type": "code",
   "execution_count": null,
   "id": "ae14b2f0",
   "metadata": {},
   "outputs": [],
   "source": [
    "df.dtypes"
   ]
  }
 ],
 "metadata": {
  "kernelspec": {
   "display_name": "PySpark",
   "language": "python",
   "name": "pyspark"
  },
  "language_info": {
   "codemirror_mode": {
    "name": "ipython",
    "version": 3
   },
   "file_extension": ".py",
   "mimetype": "text/x-python",
   "name": "python",
   "nbconvert_exporter": "python",
   "pygments_lexer": "ipython3",
   "version": "3.8.15"
  }
 },
 "nbformat": 4,
 "nbformat_minor": 5
}
